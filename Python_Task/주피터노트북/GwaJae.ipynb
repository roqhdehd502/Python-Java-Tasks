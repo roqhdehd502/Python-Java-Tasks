{
 "cells": [
  {
   "cell_type": "markdown",
   "metadata": {},
   "source": [
    "# 1. 다음과 같은 패턴을 그대로 출력하는 프로그램을 작성하시오."
   ]
  },
  {
   "cell_type": "code",
   "execution_count": 1,
   "metadata": {},
   "outputs": [
    {
     "name": "stdout",
     "output_type": "stream",
     "text": [
      "FFFFFFF  U     U  NN    NN\n",
      "FF       U     U  NNN   NN\n",
      "FFFFFFF  U     U  NN N  NN\n",
      "FF        U   U   NN  N NN\n",
      "FF         UUU    NN   NNN\n"
     ]
    }
   ],
   "source": [
    "print(\"FFFFFFF  U     U  NN    NN\")\n",
    "print(\"FF       U     U  NNN   NN\")\n",
    "print(\"FFFFFFF  U     U  NN N  NN\")\n",
    "print(\"FF        U   U   NN  N NN\")\n",
    "print(\"FF         UUU    NN   NNN\")"
   ]
  },
  {
   "cell_type": "markdown",
   "metadata": {},
   "source": [
    "# 2. 서비스료와 팁 비율을 사용자 입력으로 받아드리고, 팁 금액과 총액을 계산하는 프로그래밍을 작성하시오. 팁은 소수점 둘째자리까지만 사용한다."
   ]
  },
  {
   "cell_type": "code",
   "execution_count": 2,
   "metadata": {},
   "outputs": [
    {
     "name": "stdout",
     "output_type": "stream",
     "text": [
      "서비스료를 입력하시오: 11.5\n",
      "팁 비율을 입력하시오: 13\n",
      "팁은 1.50 이고 총 요금은 13.00 입니다.\n"
     ]
    }
   ],
   "source": [
    "sc = input(\"서비스료를 입력하시오: \") #sc: Sevice Charce\n",
    "tr = input(\"팁 비율을 입력하시오: \") #tr: Tip Ratio\n",
    "\n",
    "#팁과 총 요금 계산\n",
    "tip = float(sc) * (float(tr)/100)\n",
    "td = float(sc) + tip #td: Total Due\n",
    "\n",
    "print(\"팁은 \" + '%.2f'%tip + \" 이고 총 요금은 \" + '%.2f'%td + \" 입니다.\")"
   ]
  },
  {
   "cell_type": "markdown",
   "metadata": {},
   "source": [
    "# 3. 두 자리의 복권권호를 맞춰 아래의 조건에 따라 상금을 받는 복권 프로그램을 작성하시오."
   ]
  },
  {
   "cell_type": "markdown",
   "metadata": {},
   "source": [
    "3.1 사용자의 예상번호가 정확한 순서로 복권번호와 모두 일치하면 10,000,000원의 상금을 받는다.\n",
    "\n",
    "3.2 사용자의 예상번호가 순서는 다르지만 복권번호와 모두 일치하면 3,000,000원의 상금을 받는다.\n",
    "\n",
    "\n"
   ]
  },
  {
   "cell_type": "code",
   "execution_count": 3,
   "metadata": {},
   "outputs": [
    {
     "name": "stdout",
     "output_type": "stream",
     "text": [
      "복권 예상번호를 입력하세요(두 자릿수): 77\n",
      "1~9사이의 다른 숫자 2개를 각각 입력해주세요.\n",
      "복권 예상번호를 입력하세요(두 자릿수): 78\n",
      "복권번호는 [5, 3] 입니다.\n",
      "아쉽게도 일치하는 숫자가 없습니다.\n"
     ]
    }
   ],
   "source": [
    "import random\n",
    "\n",
    "lt_num = random.sample(range(1, 10), 2) #복권번호(랜덤) 설정\n",
    "\n",
    "sq_cnt = 0 #순서가 일치한 수\n",
    "num_cnt = 0 #숫자가 일치한 수\n",
    "\n",
    "while True:\n",
    "    num = input(\"복권 예상번호를 입력하세요(두 자릿수): \") #복권 번호 사용자 입력\n",
    "    \n",
    "    if(num[0] == num[1]): #중복 방지\n",
    "        print(\"1~9사이의 다른 숫자 2개를 각각 입력해주세요.\")\n",
    "        continue\n",
    "    else:\n",
    "        pass\n",
    "    \n",
    "    for i in range(0, 2):\n",
    "        for j in range(0, 2):\n",
    "            if(num[i] == str(lt_num[j]) and i == j):\n",
    "                sq_cnt += 1\n",
    "            elif(num[i] == str(lt_num[j]) and i != j):\n",
    "                num_cnt += 1\n",
    "            \n",
    "    if sq_cnt == 2:\n",
    "        print(\"복권번호는 \" + str(lt_num) + \" 입니다.\")\n",
    "        print(\"순서와 숫자 모두 일치: 10,000,000원을 획득하셨습니다.\")\n",
    "    elif num_cnt == 2:\n",
    "        print(\"복권번호는 \" + str(lt_num) + \" 입니다.\")\n",
    "        print(\"숫자만 모두 일치: 3,000,000원을 획득하셨습니다.\")\n",
    "    elif sq_cnt == 1:\n",
    "        print(\"복권번호는 \" + str(lt_num) + \" 입니다.\")\n",
    "        print(\"한자리 숫자 일치: 1,000,000원을 획득하셨습니다.\")\n",
    "    else:\n",
    "        print(\"복권번호는 \" + str(lt_num) + \" 입니다.\")\n",
    "        print(\"아쉽게도 일치하는 숫자가 없습니다.\")\n",
    "        break"
   ]
  },
  {
   "cell_type": "markdown",
   "metadata": {},
   "source": [
    "# 4. 두 원에 대한 중점 좌표와 반지름을 입력받고 두 원을 출력한 뒤 원이 내포 또는 중첩되어 있는지 판별하는 프로그램을 작성하시오.(단, 입력 시 동시할당문을 사용하시오.)"
   ]
  },
  {
   "cell_type": "code",
   "execution_count": 1,
   "metadata": {},
   "outputs": [
    {
     "name": "stdout",
     "output_type": "stream",
     "text": [
      "원 1에 대한 x좌표, y좌표, 반지름을 입력하시오:100, 300, 25\n",
      "원 2에 대한 x좌표, y좌표, 반지름을 입력하시오:100, 400, 50\n",
      "두 원이 만나지 않았습니다.\n"
     ]
    }
   ],
   "source": [
    "import numpy as np\n",
    "import math, cv2\n",
    "\n",
    "#두 원의 좌표 및 반지름 입력\n",
    "X1, Y1, R1 = input(\"원 1에 대한 x좌표, y좌표, 반지름을 입력하시오:\").split(\", \")\n",
    "X2, Y2, R2 = input(\"원 2에 대한 x좌표, y좌표, 반지름을 입력하시오:\").split(\", \")\n",
    "X1, Y1, R1 = float(X1), float(Y1), float(R1)\n",
    "X2, Y2, R2 = float(X2), float(Y2), float(R2)\n",
    "\n",
    "#두 원의 중점거리\n",
    "def distance(x1, y1, x2, y2):\n",
    "          \n",
    "    return math.sqrt(math.pow((x1-x2),2) + math.pow((y1-y2),2))\n",
    "\n",
    "#원과 원의 관계\n",
    "d = distance(X1, Y1, X2, Y2)\n",
    "                    \n",
    "if (R2+R1) > d:\n",
    "    if d > (R2-R1):\n",
    "        print(\"두 원이 두 점에서 만나 있습니다.(중첩)\")\n",
    "elif (R2+R1) == d:\n",
    "    print(\"두 원이 한 점에서 외접해 있습니다.(중첩)\")#한 점에서 만나는 것도 중첩으로 처리했습니다.\n",
    "elif (R2-R1) == d:\n",
    "    print(\"두 원이 한 점에서 내접해 있습니다.(내포)\")\n",
    "elif d == 0:\n",
    "    print(\"두 원이 동심원으로 되어있습니다.(내포)\")\n",
    "else:\n",
    "    print(\"두 원이 만나지 않았습니다.\")\n",
    "\n",
    "#두 원을 출력\n",
    "a1, b1, c1 = int(X1), int(Y1), int(R1)\n",
    "a2, b2, c2 = int(X2), int(Y2), int(R2)\n",
    "\n",
    "img = np.zeros((500, 500, 3), np.uint8)\n",
    "img = cv2.circle(img, (a1,b1), c1, (255,0,0), 5)#(img, 중점좌표, 반지름, blue, 두께)\n",
    "img = cv2.circle(img, (a2,b2), c2, (0,0,255), 5)#(img, 중점좌표, 반지름, red, 두께)\n",
    "cv2.imshow('image',img)\n",
    "cv2.waitKey(0)\n",
    "cv2.destroyAllWindows()"
   ]
  },
  {
   "cell_type": "code",
   "execution_count": null,
   "metadata": {},
   "outputs": [],
   "source": []
  }
 ],
 "metadata": {
  "kernelspec": {
   "display_name": "Python 3",
   "language": "python",
   "name": "python3"
  },
  "language_info": {
   "codemirror_mode": {
    "name": "ipython",
    "version": 3
   },
   "file_extension": ".py",
   "mimetype": "text/x-python",
   "name": "python",
   "nbconvert_exporter": "python",
   "pygments_lexer": "ipython3",
   "version": "3.7.3"
  }
 },
 "nbformat": 4,
 "nbformat_minor": 2
}
